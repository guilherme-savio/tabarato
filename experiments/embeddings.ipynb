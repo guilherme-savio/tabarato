{
 "cells": [
  {
   "cell_type": "code",
   "execution_count": 12,
   "id": "5c316d17",
   "metadata": {},
   "outputs": [
    {
     "data": {
      "text/plain": [
       "True"
      ]
     },
     "execution_count": 12,
     "metadata": {},
     "output_type": "execute_result"
    }
   ],
   "source": [
    "import pandas as pd\n",
    "import numpy as np\n",
    "import psycopg2\n",
    "import os\n",
    "from psycopg2.extras import execute_values\n",
    "from dotenv import load_dotenv\n",
    "\n",
    "\n",
    "load_dotenv()\n"
   ]
  },
  {
   "cell_type": "code",
   "execution_count": 13,
   "id": "cdfd9a49",
   "metadata": {},
   "outputs": [],
   "source": [
    "conn = psycopg2.connect(\n",
    "        dbname=os.getenv(\"POSTGRES_DB\"),\n",
    "        user=os.getenv(\"POSTGRES_USER\"),\n",
    "        password=os.getenv(\"POSTGRES_PASSWORD\"),\n",
    "        host=\"localhost\",\n",
    "        port=\"5432\")\n",
    "\n",
    "cursor = conn.cursor()"
   ]
  },
  {
   "cell_type": "code",
   "execution_count": 14,
   "id": "ac55ff9c",
   "metadata": {},
   "outputs": [],
   "source": [
    "df_bistek = pd.read_parquet('data/silver/bistek.parquet')\n",
    "df_giassi = pd.read_parquet('data/silver/giassi.parquet')\n",
    "df_angeloni = pd.read_parquet('data/silver/angeloni.parquet')"
   ]
  },
  {
   "cell_type": "code",
   "execution_count": 15,
   "id": "967d939a",
   "metadata": {},
   "outputs": [],
   "source": [
    "# Criando nova coluna com o nome completo do produto\n",
    "df_bistek['full_name'] = df_bistek.name + ' ' + df_bistek.weight.astype(str) + df_bistek.measure\n",
    "df_giassi['full_name'] = df_giassi.name + ' ' + df_giassi.weight.astype(str) + df_giassi.measure\n",
    "df_angeloni['full_name'] = df_angeloni.name + ' ' + df_angeloni.weight.astype(str) + df_angeloni.measure"
   ]
  },
  {
   "cell_type": "code",
   "execution_count": 17,
   "id": "b30a579f",
   "metadata": {},
   "outputs": [],
   "source": [
    "df_merged = pd.concat([df_bistek, df_giassi, df_angeloni], ignore_index=True)\n",
    "df_merged.drop(columns=['insertedAt'], inplace=True)\n",
    "df_merged = df_merged.loc[df_merged['price'] > 0]"
   ]
  },
  {
   "cell_type": "code",
   "execution_count": 18,
   "id": "c6b5ad8c",
   "metadata": {},
   "outputs": [],
   "source": [
    "from sentence_transformers import SentenceTransformer\n",
    "model = SentenceTransformer(\"all-mpnet-base-v2\", device=\"cuda\")"
   ]
  },
  {
   "cell_type": "code",
   "execution_count": 20,
   "id": "366c8fc9",
   "metadata": {},
   "outputs": [],
   "source": [
    "df_merged['embedded_name'] = df_merged['full_name'].apply(lambda x: model.encode(x, normalize_embeddings=True).tolist())"
   ]
  },
  {
   "cell_type": "code",
   "execution_count": 21,
   "id": "1cfb76b5",
   "metadata": {},
   "outputs": [],
   "source": [
    "df_merged_cols = ','.join(df_merged.columns)\n",
    "df_merged_values = [tuple(x) for x in df_merged.to_numpy()]\n",
    "df_merged_query = f\"INSERT INTO base_products ({df_merged_cols}) VALUES %s\"\n",
    "\n",
    "execute_values(cursor, df_merged_query, df_merged_values)\n",
    "conn.commit()"
   ]
  },
  {
   "cell_type": "code",
   "execution_count": null,
   "id": "05e39465",
   "metadata": {},
   "outputs": [],
   "source": [
    "user_query = \"creme de leite zero lactose\"\n",
    "user_embedded_query = model.encode(user_query, normalize_embeddings=True).tolist()\n",
    "\n",
    "\n",
    "sql = \"\"\"\n",
    "SELECT full_name, embedded_name <-> %s::vector(768) AS distance\n",
    "FROM base_products\n",
    "ORDER BY embedded_name <-> %s::vector(768)\n",
    "\"\"\"\n",
    "\n",
    "cursor.execute(sql, (user_embedded_query, user_embedded_query))\n",
    "results = cursor.fetchall()\n",
    "\n",
    "for full_name, distance in results:\n",
    "    print(f\"Produto: {full_name}, Distância: {distance}\")"
   ]
  },
  {
   "cell_type": "code",
   "execution_count": null,
   "id": "abc17a44",
   "metadata": {},
   "outputs": [],
   "source": []
  }
 ],
 "metadata": {
  "kernelspec": {
   "display_name": "venv",
   "language": "python",
   "name": "python3"
  },
  "language_info": {
   "codemirror_mode": {
    "name": "ipython",
    "version": 3
   },
   "file_extension": ".py",
   "mimetype": "text/x-python",
   "name": "python",
   "nbconvert_exporter": "python",
   "pygments_lexer": "ipython3",
   "version": "3.10.11"
  }
 },
 "nbformat": 4,
 "nbformat_minor": 5
}
